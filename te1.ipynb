{
 "cells": [
  {
   "cell_type": "code",
   "execution_count": 2,
   "outputs": [],
   "source": [
    "import matplotlib.pyplot as plt\n",
    "import pandas as pd\n",
    "import seaborn as sns"
   ],
   "metadata": {
    "collapsed": false,
    "pycharm": {
     "name": "#%%\n"
    }
   }
  },
  {
   "cell_type": "code",
   "execution_count": 3,
   "outputs": [],
   "source": [
    "# Exercício 1\n",
    "owid_energy_data = pd.read_csv('owid-energy-data.csv')\n",
    "\n",
    "countries = ['United States', 'Canada', 'Brazil', 'Mexico']\n",
    "filtered_index = owid_energy_data.country.isin(countries)\n",
    "energy_data = owid_energy_data[filtered_index]\n",
    "energy_data.to_csv('filtered-energy-data.csv')"
   ],
   "metadata": {
    "collapsed": false,
    "pycharm": {
     "name": "#%%\n"
    }
   }
  },
  {
   "cell_type": "code",
   "execution_count": null,
   "outputs": [],
   "source": [
    "# Exercício 2\n",
    "plt.figure()\n",
    "colors = ['blue', 'red', 'green', 'yellow']\n",
    "\n",
    "for country, color in zip(countries, colors):\n",
    "    data = energy_data[(energy_data.country == country)\n",
    "                       & (energy_data['oil_electricity'].notnull())]\n",
    "    plt.plot(data.year, data['oil_electricity'], '-', color=color, label=country)\n",
    "\n",
    "plt.xlabel('year')\n",
    "plt.ylabel('oil electricity')\n",
    "plt.title('Electricity production from oil in certain countries')\n",
    "plt.legend()\n",
    "plt.show()"
   ],
   "metadata": {
    "collapsed": false,
    "pycharm": {
     "name": "#%%\n"
    }
   }
  },
  {
   "cell_type": "code",
   "execution_count": null,
   "outputs": [],
   "source": [
    "# Exercício 3\n",
    "usa_energy_data = energy_data[(energy_data.country == 'United States')\n",
    "                              & (energy_data.year == 2010)]\n",
    "\n",
    "elec_sources = ['coal_electricity', 'biofuel_electricity',\n",
    "                'fossil_electricity', 'gas_electricity',\n",
    "                'hydro_electricity', 'nuclear_electricity',\n",
    "                'oil_electricity']\n",
    "\n",
    "usa_electricity = usa_energy_data[elec_sources].values.flatten().tolist()\n",
    "\n",
    "plt.figure()\n",
    "plt.title('Electricity production from the United States in 2010')\n",
    "elec_sources = [s.replace('_', ' ').capitalize() for s in elec_sources]\n",
    "plt.pie(usa_electricity, labels=elec_sources)\n",
    "plt.show()"
   ],
   "metadata": {
    "collapsed": false,
    "pycharm": {
     "name": "#%%\n"
    }
   }
  },
  {
   "cell_type": "code",
   "execution_count": null,
   "outputs": [],
   "source": [
    "# Exercício 4\n",
    "def highest_nuclear_consumption(country: str) -> None:\n",
    "    country_data: pd.DataFrame = energy_data.loc[(energy_data.country == country),\n",
    "                                                 ['year', 'nuclear_consumption']]\n",
    "    i = country_data['nuclear_consumption'].idxmax()\n",
    "    year = country_data.loc[i, 'year']\n",
    "    consumption = country_data.loc[i, 'nuclear_consumption']\n",
    "    print(f'Nuclear consumption of {country} in {year} was {consumption}')"
   ],
   "metadata": {
    "collapsed": false,
    "pycharm": {
     "name": "#%%\n"
    }
   }
  },
  {
   "cell_type": "code",
   "execution_count": null,
   "outputs": [],
   "source": [
    "print('Highest nuclear consumption year per country:')\n",
    "[highest_nuclear_consumption(country) for country in countries]"
   ],
   "metadata": {
    "collapsed": false,
    "pycharm": {
     "name": "#%%\n"
    }
   }
  },
  {
   "cell_type": "code",
   "execution_count": null,
   "outputs": [],
   "source": [
    "# Exercício 5\n",
    "sns.regplot(data=owid_energy_data, x='gas_consumption', y='nuclear_consumption')\n",
    "\n",
    "plt.xlabel('Gas consumption')\n",
    "plt.ylabel('Nuclear consumption')\n",
    "plt.title(f'Gas consumption / Nuclear consumption')\n",
    "\n",
    "grid = sns.FacetGrid(energy_data, col=\"country\", hue=\"country\", col_wrap=2,\n",
    "                     sharex=False, sharey=False)\n",
    "grid.map(sns.regplot, 'gas_consumption', 'nuclear_consumption')\n",
    "grid.add_legend()\n",
    "\n",
    "plt.show()"
   ],
   "metadata": {
    "collapsed": false,
    "pycharm": {
     "name": "#%%\n"
    }
   }
  },
  {
   "cell_type": "code",
   "execution_count": null,
   "outputs": [],
   "source": [
    "# Exercício 6\n",
    "from warnings import simplefilter\n",
    "import numpy as np\n",
    "from sklearn.linear_model import LinearRegression\n",
    "from sklearn.metrics import mean_squared_error\n",
    "from sklearn.model_selection import train_test_split\n",
    "from xgboost import XGBRegressor\n",
    "\n",
    "simplefilter(\"ignore\")\n",
    "\n",
    "# Set Matplotlib defaults\n",
    "plt.style.use(\"seaborn-whitegrid\")\n",
    "plt.rc(\"figure\", autolayout=True, figsize=(11, 4))\n",
    "plt.rc(\n",
    "    \"axes\",\n",
    "    labelweight=\"bold\",\n",
    "    labelsize=\"large\",\n",
    "    titleweight=\"bold\",\n",
    "    titlesize=16,\n",
    "    titlepad=10,\n",
    ")\n",
    "plot_params = dict(\n",
    "    color=\"0.75\",\n",
    "    style=\".-\",\n",
    "    markeredgecolor=\"0.25\",\n",
    "    markerfacecolor=\"0.25\",\n",
    ")\n",
    "%config InlineBackend.figure_format = 'retina'\n",
    "\n",
    "\n",
    "def plot_multistep(y, every=1, ax=None, palette_kwargs=None):\n",
    "    palette_kwargs_ = dict(palette='husl', n_colors=16, desat=None)\n",
    "    if palette_kwargs is not None:\n",
    "        palette_kwargs_.update(palette_kwargs)\n",
    "    palette = sns.color_palette(**palette_kwargs_)\n",
    "    if ax is None:\n",
    "        fig, ax = plt.subplots()\n",
    "    ax.set_prop_cycle(plt.cycler('color', palette))\n",
    "    for date, preds in y[::every].iterrows():\n",
    "        preds.index = pd.period_range(start=date, periods=len(preds))\n",
    "        preds.plot(ax=ax)\n",
    "    return ax"
   ],
   "metadata": {
    "collapsed": false,
    "pycharm": {
     "name": "#%%\n"
    }
   }
  },
  {
   "cell_type": "code",
   "execution_count": 4,
   "outputs": [
    {
     "name": "stdout",
     "output_type": "stream",
     "text": [
      "       year  solar_consumption\n",
      "16126  1965                0.0\n",
      "16127  1966                0.0\n",
      "16128  1967                0.0\n",
      "16129  1968                0.0\n",
      "16130  1969                0.0\n"
     ]
    }
   ],
   "source": [
    "# Exercício 6\n",
    "solar_data: pd.DataFrame = energy_data.loc[(energy_data.country == countries[0])\n",
    "                                           & (energy_data['solar_consumption'].notnull()),\n",
    "                                           ['year', 'solar_consumption']]\n",
    "solar_data.set_index('year', drop=True)\n",
    "print(solar_data.head())"
   ],
   "metadata": {
    "collapsed": false,
    "pycharm": {
     "name": "#%%\n"
    }
   }
  }
 ],
 "metadata": {
  "kernelspec": {
   "display_name": "Python 3",
   "language": "python",
   "name": "python3"
  },
  "language_info": {
   "codemirror_mode": {
    "name": "ipython",
    "version": 2
   },
   "file_extension": ".py",
   "mimetype": "text/x-python",
   "name": "python",
   "nbconvert_exporter": "python",
   "pygments_lexer": "ipython2",
   "version": "2.7.6"
  }
 },
 "nbformat": 4,
 "nbformat_minor": 0
}